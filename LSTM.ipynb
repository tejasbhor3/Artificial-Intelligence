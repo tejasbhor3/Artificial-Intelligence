{
 "cells": [
  {
   "cell_type": "code",
   "execution_count": 15,
   "metadata": {},
   "outputs": [],
   "source": [
    "import pandas as pd\n",
    "import numpy as np\n",
    "import seaborn as sns\n",
    "import matplotlib.pyplot as plt"
   ]
  },
  {
   "cell_type": "code",
   "execution_count": 20,
   "metadata": {},
   "outputs": [],
   "source": [
    "df=pd.read_csv('international-airline-passengers.csv',parse_dates=[\"Month\"],index_col=\"Month\")"
   ]
  },
  {
   "cell_type": "code",
   "execution_count": 21,
   "metadata": {},
   "outputs": [
    {
     "data": {
      "text/html": [
       "<div>\n",
       "<style scoped>\n",
       "    .dataframe tbody tr th:only-of-type {\n",
       "        vertical-align: middle;\n",
       "    }\n",
       "\n",
       "    .dataframe tbody tr th {\n",
       "        vertical-align: top;\n",
       "    }\n",
       "\n",
       "    .dataframe thead th {\n",
       "        text-align: right;\n",
       "    }\n",
       "</style>\n",
       "<table border=\"1\" class=\"dataframe\">\n",
       "  <thead>\n",
       "    <tr style=\"text-align: right;\">\n",
       "      <th></th>\n",
       "      <th>International airline passengers: monthly totals in thousands. Jan 49 ? Dec 60</th>\n",
       "    </tr>\n",
       "    <tr>\n",
       "      <th>Month</th>\n",
       "      <th></th>\n",
       "    </tr>\n",
       "  </thead>\n",
       "  <tbody>\n",
       "    <tr>\n",
       "      <th>1949-01</th>\n",
       "      <td>112.0</td>\n",
       "    </tr>\n",
       "    <tr>\n",
       "      <th>1949-02</th>\n",
       "      <td>118.0</td>\n",
       "    </tr>\n",
       "    <tr>\n",
       "      <th>1949-03</th>\n",
       "      <td>132.0</td>\n",
       "    </tr>\n",
       "    <tr>\n",
       "      <th>1949-04</th>\n",
       "      <td>129.0</td>\n",
       "    </tr>\n",
       "    <tr>\n",
       "      <th>1949-05</th>\n",
       "      <td>121.0</td>\n",
       "    </tr>\n",
       "  </tbody>\n",
       "</table>\n",
       "</div>"
      ],
      "text/plain": [
       "         International airline passengers: monthly totals in thousands. Jan 49 ? Dec 60\n",
       "Month                                                                                  \n",
       "1949-01                                              112.0                             \n",
       "1949-02                                              118.0                             \n",
       "1949-03                                              132.0                             \n",
       "1949-04                                              129.0                             \n",
       "1949-05                                              121.0                             "
      ]
     },
     "execution_count": 21,
     "metadata": {},
     "output_type": "execute_result"
    }
   ],
   "source": [
    "df.head()"
   ]
  },
  {
   "cell_type": "code",
   "execution_count": 22,
   "metadata": {},
   "outputs": [
    {
     "data": {
      "text/plain": [
       "<AxesSubplot:xlabel='Month'>"
      ]
     },
     "execution_count": 22,
     "metadata": {},
     "output_type": "execute_result"
    },
    {
     "data": {
      "image/png": "[encoded data removed]",
      "text/plain": [
       "<Figure size 432x288 with 1 Axes>"
      ]
     },
     "metadata": {
      "needs_background": "light"
     },
     "output_type": "display_data"
    }
   ],
   "source": [
    "df.plot()"
   ]
  },
  {
   "cell_type": "code",
   "execution_count": 23,
   "metadata": {},
   "outputs": [
    {
     "data": {
      "text/plain": [
       "(145, 1)"
      ]
     },
     "execution_count": 23,
     "metadata": {},
     "output_type": "execute_result"
    }
   ],
   "source": [
    "df.shape"
   ]
  },
  {
   "cell_type": "code",
   "execution_count": 25,
   "metadata": {},
   "outputs": [],
   "source": [
    "size=int(df.shape[0]*0.8)"
   ]
  },
  {
   "cell_type": "code",
   "execution_count": 26,
   "metadata": {},
   "outputs": [
    {
     "data": {
      "text/plain": [
       "(29, 1)"
      ]
     },
     "execution_count": 26,
     "metadata": {},
     "output_type": "execute_result"
    }
   ],
   "source": [
    "train=df.iloc[:size]\n",
    "train.shape\n",
    "test=df.iloc[size:]\n",
    "test.shape"
   ]
  },
  {
   "cell_type": "code",
   "execution_count": 27,
   "metadata": {},
   "outputs": [
    {
     "data": {
      "text/plain": [
       "[<matplotlib.lines.Line2D at 0x1b7bc1dbe50>]"
      ]
     },
     "execution_count": 27,
     "metadata": {},
     "output_type": "execute_result"
    },
    {
     "data": {
      "image/png": "[encoded data removed]",
      "text/plain": [
       "<Figure size 432x288 with 1 Axes>"
      ]
     },
     "metadata": {
      "needs_background": "light"
     },
     "output_type": "display_data"
    }
   ],
   "source": [
    "plt.plot(train)\n",
    "plt.plot(test)"
   ]
  },
  {
   "cell_type": "code",
   "execution_count": 28,
   "metadata": {},
   "outputs": [],
   "source": [
    "from sklearn.preprocessing import MinMaxScaler\n",
    "mx=MinMaxScaler()\n",
    "mx.fit(train)\n",
    "sc_train=mx.transform(train)\n",
    "sc_test=mx.transform(test)"
   ]
  },
  {
   "cell_type": "code",
   "execution_count": 29,
   "metadata": {},
   "outputs": [
    {
     "name": "stdout",
     "output_type": "stream",
     "text": [
      "Model: \"sequential\"\n",
      "_________________________________________________________________\n",
      "Layer (type)                 Output Shape              Param #   \n",
      "=================================================================\n",
      "lstm (LSTM)                  (None, 200)               161600    \n",
      "_________________________________________________________________\n",
      "dense (Dense)                (None, 1)                 201       \n",
      "=================================================================\n",
      "Total params: 161,801\n",
      "Trainable params: 161,801\n",
      "Non-trainable params: 0\n",
      "_________________________________________________________________\n"
     ]
    }
   ],
   "source": [
    "from keras.models import Sequential\n",
    "from keras.layers import Dense\n",
    "from keras.layers import LSTM\n",
    "\n",
    "lstm_model=Sequential()\n",
    "lstm_model.add(LSTM(200,activation='relu',input_shape=(10,1)))\n",
    "lstm_model.add(Dense(1))\n",
    "lstm_model.compile(loss='mse')\n",
    "\n",
    "lstm_model.summary()"
   ]
  },
  {
   "cell_type": "code",
   "execution_count": 30,
   "metadata": {},
   "outputs": [],
   "source": [
    "from keras.preprocessing.sequence import TimeseriesGenerator\n",
    "gen=TimeseriesGenerator(sc_train,sc_train,length=10,batch_size=1)"
   ]
  },
  {
   "cell_type": "code",
   "execution_count": 31,
   "metadata": {},
   "outputs": [
    {
     "name": "stderr",
     "output_type": "stream",
     "text": [
      "C:\\Users\\tejas\\anaconda3\\lib\\site-packages\\tensorflow\\python\\keras\\engine\\training.py:1844: UserWarning: `Model.fit_generator` is deprecated and will be removed in a future version. Please use `Model.fit`, which supports generators.\n",
      "  warnings.warn('`Model.fit_generator` is deprecated and '\n"
     ]
    },
    {
     "name": "stdout",
     "output_type": "stream",
     "text": [
      "Epoch 1/20\n",
      "106/106 [==============================] - 5s 8ms/step - loss: 0.0566\n",
      "Epoch 2/20\n",
      "106/106 [==============================] - 1s 8ms/step - loss: 0.0108\n",
      "Epoch 3/20\n",
      "106/106 [==============================] - 1s 8ms/step - loss: 0.0184\n",
      "Epoch 4/20\n",
      "106/106 [==============================] - 1s 9ms/step - loss: 0.0159\n",
      "Epoch 5/20\n",
      "106/106 [==============================] - 1s 9ms/step - loss: 0.0144\n",
      "Epoch 6/20\n",
      "106/106 [==============================] - 1s 9ms/step - loss: 0.0128\n",
      "Epoch 7/20\n",
      "106/106 [==============================] - 1s 11ms/step - loss: 0.0159\n",
      "Epoch 8/20\n",
      "106/106 [==============================] - 1s 11ms/step - loss: 0.0124\n",
      "Epoch 9/20\n",
      "106/106 [==============================] - 1s 8ms/step - loss: 0.0117\n",
      "Epoch 10/20\n",
      "106/106 [==============================] - 1s 8ms/step - loss: 0.0097\n",
      "Epoch 11/20\n",
      "106/106 [==============================] - 1s 9ms/step - loss: 0.0098\n",
      "Epoch 12/20\n",
      "106/106 [==============================] - 1s 9ms/step - loss: 0.0074\n",
      "Epoch 13/20\n",
      "106/106 [==============================] - 1s 10ms/step - loss: 0.0103\n",
      "Epoch 14/20\n",
      "106/106 [==============================] - 1s 8ms/step - loss: 0.0072\n",
      "Epoch 15/20\n",
      "106/106 [==============================] - 1s 8ms/step - loss: 0.0064\n",
      "Epoch 16/20\n",
      "106/106 [==============================] - 1s 10ms/step - loss: 0.0064\n",
      "Epoch 17/20\n",
      "106/106 [==============================] - 1s 10ms/step - loss: 0.0067\n",
      "Epoch 18/20\n",
      "106/106 [==============================] - 1s 9ms/step - loss: 0.0066\n",
      "Epoch 19/20\n",
      "106/106 [==============================] - 1s 8ms/step - loss: 0.0072\n",
      "Epoch 20/20\n",
      "106/106 [==============================] - 1s 10ms/step - loss: 0.0052\n"
     ]
    },
    {
     "data": {
      "text/plain": [
       "<tensorflow.python.keras.callbacks.History at 0x1b7bc19fb50>"
      ]
     },
     "execution_count": 31,
     "metadata": {},
     "output_type": "execute_result"
    }
   ],
   "source": [
    "lstm_model.fit_generator(gen,epochs=20)\n"
   ]
  },
  {
   "cell_type": "code",
   "execution_count": 32,
   "metadata": {},
   "outputs": [
    {
     "data": {
      "text/plain": [
       "([<matplotlib.axis.XTick at 0x1b7c7080c70>,\n",
       "  <matplotlib.axis.XTick at 0x1b7c7080850>,\n",
       "  <matplotlib.axis.XTick at 0x1b7c7081280>,\n",
       "  <matplotlib.axis.XTick at 0x1b7c709c850>,\n",
       "  <matplotlib.axis.XTick at 0x1b7c709cd90>,\n",
       "  <matplotlib.axis.XTick at 0x1b7c70c22b0>,\n",
       "  <matplotlib.axis.XTick at 0x1b7c70c27c0>,\n",
       "  <matplotlib.axis.XTick at 0x1b7c70c2cd0>,\n",
       "  <matplotlib.axis.XTick at 0x1b7c70c9220>,\n",
       "  <matplotlib.axis.XTick at 0x1b7c70c9730>,\n",
       "  <matplotlib.axis.XTick at 0x1b7c70c2430>,\n",
       "  <matplotlib.axis.XTick at 0x1b7c70963a0>,\n",
       "  <matplotlib.axis.XTick at 0x1b7c70c9a90>,\n",
       "  <matplotlib.axis.XTick at 0x1b7c70c9fa0>,\n",
       "  <matplotlib.axis.XTick at 0x1b7c70d14f0>,\n",
       "  <matplotlib.axis.XTick at 0x1b7c70d1a00>,\n",
       "  <matplotlib.axis.XTick at 0x1b7c70d1f10>,\n",
       "  <matplotlib.axis.XTick at 0x1b7c70d6460>,\n",
       "  <matplotlib.axis.XTick at 0x1b7c70d6970>,\n",
       "  <matplotlib.axis.XTick at 0x1b7c70d11f0>],\n",
       " [Text(0, 0, ''),\n",
       "  Text(0, 0, ''),\n",
       "  Text(0, 0, ''),\n",
       "  Text(0, 0, ''),\n",
       "  Text(0, 0, ''),\n",
       "  Text(0, 0, ''),\n",
       "  Text(0, 0, ''),\n",
       "  Text(0, 0, ''),\n",
       "  Text(0, 0, ''),\n",
       "  Text(0, 0, ''),\n",
       "  Text(0, 0, ''),\n",
       "  Text(0, 0, ''),\n",
       "  Text(0, 0, ''),\n",
       "  Text(0, 0, ''),\n",
       "  Text(0, 0, ''),\n",
       "  Text(0, 0, ''),\n",
       "  Text(0, 0, ''),\n",
       "  Text(0, 0, ''),\n",
       "  Text(0, 0, ''),\n",
       "  Text(0, 0, '')])"
      ]
     },
     "execution_count": 32,
     "metadata": {},
     "output_type": "execute_result"
    },
    {
     "data": {
      "image/png": "[encoded data removed]",
      "text/plain": [
       "<Figure size 432x288 with 1 Axes>"
      ]
     },
     "metadata": {
      "needs_background": "light"
     },
     "output_type": "display_data"
    }
   ],
   "source": [
    "loss=lstm_model.history.history[\"loss\"]\n",
    "plt.plot(range(1,len(loss)+1),loss)\n",
    "plt.xticks(range(1,len(loss)+1))"
   ]
  },
  {
   "cell_type": "code",
   "execution_count": 33,
   "metadata": {},
   "outputs": [],
   "source": [
    "pred = []\n",
    "\n",
    "batch = sc_train[-10:]\n",
    "current_batch = batch.reshape((1, 10, 1))\n",
    "\n",
    "for i in range(len(test)):   \n",
    "    tpred = lstm_model.predict(current_batch)[0]\n",
    "    pred.append(tpred) \n",
    "    current_batch = np.append(current_batch[:,1:,:],[[tpred]],axis=1)\n",
    "  "
   ]
  },
  {
   "cell_type": "code",
   "execution_count": 34,
   "metadata": {},
   "outputs": [
    {
     "data": {
      "text/plain": [
       "[array([0.8728551], dtype=float32),\n",
       " array([0.79417634], dtype=float32),\n",
       " array([0.72842824], dtype=float32),\n",
       " array([0.67556745], dtype=float32),\n",
       " array([0.70271456], dtype=float32),\n",
       " array([0.73009276], dtype=float32),\n",
       " array([0.8116258], dtype=float32),\n",
       " array([0.94726825], dtype=float32),\n",
       " array([1.1176082], dtype=float32),\n",
       " array([1.2705353], dtype=float32),\n",
       " array([1.2823306], dtype=float32),\n",
       " array([1.1989561], dtype=float32),\n",
       " array([1.0622859], dtype=float32),\n",
       " array([0.924244], dtype=float32),\n",
       " array([0.85706556], dtype=float32),\n",
       " array([0.86575705], dtype=float32),\n",
       " array([0.9672371], dtype=float32),\n",
       " array([1.1524315], dtype=float32),\n",
       " array([1.4224936], dtype=float32),\n",
       " array([1.7673081], dtype=float32),\n",
       " array([2.043714], dtype=float32),\n",
       " array([2.1301818], dtype=float32),\n",
       " array([1.9437575], dtype=float32),\n",
       " array([1.5678909], dtype=float32),\n",
       " array([1.2189342], dtype=float32),\n",
       " array([1.0660572], dtype=float32),\n",
       " array([1.1893158], dtype=float32),\n",
       " array([1.5639548], dtype=float32),\n",
       " array([2.253156], dtype=float32)]"
      ]
     },
     "execution_count": 34,
     "metadata": {},
     "output_type": "execute_result"
    }
   ],
   "source": [
    "pred"
   ]
  },
  {
   "cell_type": "code",
   "execution_count": 35,
   "metadata": {},
   "outputs": [
    {
     "data": {
      "text/plain": [
       "array([[ 454.01490587],\n",
       "       [ 422.46471238],\n",
       "       [ 396.09972608],\n",
       "       [ 374.9025467 ],\n",
       "       [ 385.78853953],\n",
       "       [ 396.76719832],\n",
       "       [ 429.46193725],\n",
       "       [ 483.85456729],\n",
       "       [ 552.16088402],\n",
       "       [ 613.48467529],\n",
       "       [ 618.21458352],\n",
       "       [ 584.78140891],\n",
       "       [ 529.97664595],\n",
       "       [ 474.62183863],\n",
       "       [ 447.68328893],\n",
       "       [ 451.1685763 ],\n",
       "       [ 491.86208308],\n",
       "       [ 566.1250267 ],\n",
       "       [ 674.41992438],\n",
       "       [ 812.6905545 ],\n",
       "       [ 923.52933264],\n",
       "       [ 958.20289755],\n",
       "       [ 883.44677114],\n",
       "       [ 732.72424388],\n",
       "       [ 592.79260552],\n",
       "       [ 531.48893929],\n",
       "       [ 580.91563416],\n",
       "       [ 731.1458869 ],\n",
       "       [1007.51553464]])"
      ]
     },
     "execution_count": 35,
     "metadata": {},
     "output_type": "execute_result"
    }
   ],
   "source": [
    "lstm_predictions = mx.inverse_transform(pred)\n",
    "lstm_predictions"
   ]
  },
  {
   "cell_type": "code",
   "execution_count": 36,
   "metadata": {},
   "outputs": [
    {
     "name": "stderr",
     "output_type": "stream",
     "text": [
      "<ipython-input-36-c1ea56a3f8a6>:2: SettingWithCopyWarning: \n",
      "A value is trying to be set on a copy of a slice from a DataFrame.\n",
      "Try using .loc[row_indexer,col_indexer] = value instead\n",
      "\n",
      "See the caveats in the documentation: https://pandas.pydata.org/pandas-docs/stable/user_guide/indexing.html#returning-a-view-versus-a-copy\n",
      "  test_df['LSTM_Predictions'] = lstm_predictions\n"
     ]
    },
    {
     "data": {
      "text/html": [
       "<div>\n",
       "<style scoped>\n",
       "    .dataframe tbody tr th:only-of-type {\n",
       "        vertical-align: middle;\n",
       "    }\n",
       "\n",
       "    .dataframe tbody tr th {\n",
       "        vertical-align: top;\n",
       "    }\n",
       "\n",
       "    .dataframe thead th {\n",
       "        text-align: right;\n",
       "    }\n",
       "</style>\n",
       "<table border=\"1\" class=\"dataframe\">\n",
       "  <thead>\n",
       "    <tr style=\"text-align: right;\">\n",
       "      <th></th>\n",
       "      <th>International airline passengers: monthly totals in thousands. Jan 49 ? Dec 60</th>\n",
       "      <th>LSTM_Predictions</th>\n",
       "    </tr>\n",
       "    <tr>\n",
       "      <th>Month</th>\n",
       "      <th></th>\n",
       "      <th></th>\n",
       "    </tr>\n",
       "  </thead>\n",
       "  <tbody>\n",
       "    <tr>\n",
       "      <th>1958-09</th>\n",
       "      <td>404.0</td>\n",
       "      <td>454.014906</td>\n",
       "    </tr>\n",
       "    <tr>\n",
       "      <th>1958-10</th>\n",
       "      <td>359.0</td>\n",
       "      <td>422.464712</td>\n",
       "    </tr>\n",
       "    <tr>\n",
       "      <th>1958-11</th>\n",
       "      <td>310.0</td>\n",
       "      <td>396.099726</td>\n",
       "    </tr>\n",
       "    <tr>\n",
       "      <th>1958-12</th>\n",
       "      <td>337.0</td>\n",
       "      <td>374.902547</td>\n",
       "    </tr>\n",
       "    <tr>\n",
       "      <th>1959-01</th>\n",
       "      <td>360.0</td>\n",
       "      <td>385.788540</td>\n",
       "    </tr>\n",
       "  </tbody>\n",
       "</table>\n",
       "</div>"
      ],
      "text/plain": [
       "         International airline passengers: monthly totals in thousands. Jan 49 ? Dec 60  \\\n",
       "Month                                                                                     \n",
       "1958-09                                              404.0                                \n",
       "1958-10                                              359.0                                \n",
       "1958-11                                              310.0                                \n",
       "1958-12                                              337.0                                \n",
       "1959-01                                              360.0                                \n",
       "\n",
       "         LSTM_Predictions  \n",
       "Month                      \n",
       "1958-09        454.014906  \n",
       "1958-10        422.464712  \n",
       "1958-11        396.099726  \n",
       "1958-12        374.902547  \n",
       "1959-01        385.788540  "
      ]
     },
     "execution_count": 36,
     "metadata": {},
     "output_type": "execute_result"
    }
   ],
   "source": [
    "test_df=test\n",
    "test_df['LSTM_Predictions'] = lstm_predictions\n",
    "test_df.head()"
   ]
  },
  {
   "cell_type": "code",
   "execution_count": 37,
   "metadata": {},
   "outputs": [
    {
     "data": {
      "text/plain": [
       "<AxesSubplot:xlabel='Month'>"
      ]
     },
     "execution_count": 37,
     "metadata": {},
     "output_type": "execute_result"
    },
    {
     "data": {
      "image/png": "[encoded data removed]",
      "text/plain": [
       "<Figure size 1152x360 with 1 Axes>"
      ]
     },
     "metadata": {
      "needs_background": "light"
     },
     "output_type": "display_data"
    }
   ],
   "source": [
    "test_df['International airline passengers: monthly totals in thousands. Jan 49 ? Dec 60'].plot(figsize = (16,5), legend=True)\n",
    "test_df['LSTM_Predictions'].plot(legend = True)"
   ]
  },
  {
   "cell_type": "code",
   "execution_count": null,
   "metadata": {},
   "outputs": [],
   "source": []
  }
 ],
 "metadata": {
  "kernelspec": {
   "display_name": "Python 3",
   "language": "python",
   "name": "python3"
  },
  "language_info": {
   "codemirror_mode": {
    "name": "ipython",
    "version": 3
   },
   "file_extension": ".py",
   "mimetype": "text/x-python",
   "name": "python",
   "nbconvert_exporter": "python",
   "pygments_lexer": "ipython3",
   "version": "3.8.5"
  }
 },
 "nbformat": 4,
 "nbformat_minor": 4
}
